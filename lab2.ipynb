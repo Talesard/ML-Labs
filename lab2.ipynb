{
 "cells": [
  {
   "cell_type": "markdown",
   "id": "dc6db6e9",
   "metadata": {},
   "source": [
    "# Бинарная классификация сетевого трафика: безопасный и вирусный."
   ]
  },
  {
   "cell_type": "markdown",
   "id": "85ca3509",
   "metadata": {},
   "source": [
    "Требуется определить является ли сетевое взаимодействие опасным/безопасным по большому числу признаков трафика. "
   ]
  },
  {
   "cell_type": "markdown",
   "id": "e896d5cc",
   "metadata": {},
   "source": [
    "## Подключение модулей"
   ]
  },
  {
   "cell_type": "code",
   "execution_count": 1,
   "id": "be586e56",
   "metadata": {},
   "outputs": [],
   "source": [
    "import numpy as np\n",
    "import matplotlib.pyplot as plt\n",
    "%matplotlib inline              \n",
    "import pandas as pd\n",
    "import seaborn as sns\n",
    "import sklearn"
   ]
  },
  {
   "cell_type": "markdown",
   "id": "5d45c506",
   "metadata": {},
   "source": [
    "## Загрузка данных"
   ]
  },
  {
   "cell_type": "code",
   "execution_count": 2,
   "id": "8f47bc52",
   "metadata": {},
   "outputs": [
    {
     "data": {
      "text/plain": [
       "(177482, 85)"
      ]
     },
     "execution_count": 2,
     "metadata": {},
     "output_type": "execute_result"
    }
   ],
   "source": [
    "url = './data/dataset.csv'\n",
    "data = pd.read_csv(url, sep=',', header=0, engine='python')\n",
    "data.shape"
   ]
  },
  {
   "cell_type": "markdown",
   "id": "3a101d6a",
   "metadata": {},
   "source": [
    "## Подготовка данных"
   ]
  },
  {
   "cell_type": "markdown",
   "id": "0bdf701b",
   "metadata": {},
   "source": [
    "### Пропущенные "
   ]
  },
  {
   "cell_type": "code",
   "execution_count": 3,
   "id": "4c54cb65",
   "metadata": {},
   "outputs": [
    {
     "data": {
      "text/plain": [
       "0"
      ]
     },
     "execution_count": 3,
     "metadata": {},
     "output_type": "execute_result"
    }
   ],
   "source": [
    "data.isna().sum().sum() # их нет"
   ]
  },
  {
   "cell_type": "markdown",
   "id": "1db89107",
   "metadata": {},
   "source": [
    "### Обработка текстовых данных"
   ]
  },
  {
   "cell_type": "code",
   "execution_count": 4,
   "id": "1cb32970",
   "metadata": {},
   "outputs": [
    {
     "data": {
      "text/plain": [
       "['FlowID', 'SourceIP', 'DestinationIP', 'Timestamp', 'Class']"
      ]
     },
     "execution_count": 4,
     "metadata": {},
     "output_type": "execute_result"
    }
   ],
   "source": [
    "categorical_columns = [c for c in data.columns if data[c].dtype.name == 'object']\n",
    "categorical_columns"
   ]
  },
  {
   "cell_type": "code",
   "execution_count": 5,
   "id": "ba45018d",
   "metadata": {},
   "outputs": [],
   "source": [
    "from sklearn import preprocessing\n",
    "data_describe = data.describe(include = [object])\n",
    "number = preprocessing.LabelEncoder()\n",
    "data[\"FlowID\"] = number.fit_transform(data[\"FlowID\"])\n",
    "data[\"SourceIP\"] = number.fit_transform(data[\"SourceIP\"])\n",
    "data[\"DestinationIP\"] = number.fit_transform(data[\"DestinationIP\"])\n",
    "data[\"Timestamp\"] = number.fit_transform(data[\"Timestamp\"])"
   ]
  },
  {
   "cell_type": "code",
   "execution_count": 6,
   "id": "79825e2b",
   "metadata": {},
   "outputs": [],
   "source": [
    "binary_columns = [c for c in categorical_columns if data_describe[c]['unique'] == 2]"
   ]
  },
  {
   "cell_type": "code",
   "execution_count": 7,
   "id": "c1165b7e",
   "metadata": {},
   "outputs": [
    {
     "data": {
      "text/plain": [
       "array(['Trojan', 'Benign'], dtype=object)"
      ]
     },
     "execution_count": 7,
     "metadata": {},
     "output_type": "execute_result"
    }
   ],
   "source": [
    "data['Class'].unique()"
   ]
  },
  {
   "cell_type": "code",
   "execution_count": 8,
   "id": "f0a1c843",
   "metadata": {},
   "outputs": [
    {
     "data": {
      "text/plain": [
       "count     177482\n",
       "unique         2\n",
       "top            1\n",
       "freq       90683\n",
       "Name: Class, dtype: int64"
      ]
     },
     "execution_count": 8,
     "metadata": {},
     "output_type": "execute_result"
    }
   ],
   "source": [
    "data.at[data['Class'] == 'Trojan', 'Class'] = 1\n",
    "data.at[data['Class'] == 'Benign', 'Class'] = 0\n",
    "data['Class'].describe()"
   ]
  },
  {
   "cell_type": "markdown",
   "id": "1e701942",
   "metadata": {},
   "source": [
    "### Нормализация числовых данных"
   ]
  },
  {
   "cell_type": "code",
   "execution_count": 9,
   "id": "ee124bb1",
   "metadata": {},
   "outputs": [
    {
     "data": {
      "text/plain": [
       "84"
      ]
     },
     "execution_count": 9,
     "metadata": {},
     "output_type": "execute_result"
    }
   ],
   "source": [
    "numerical_columns = [c for c in data.columns if data[c].dtype.name != 'object']\n",
    "len(numerical_columns)"
   ]
  },
  {
   "cell_type": "code",
   "execution_count": 10,
   "id": "53a6bb82",
   "metadata": {},
   "outputs": [],
   "source": [
    "data_numerical = data[numerical_columns].astype('float32')"
   ]
  },
  {
   "cell_type": "code",
   "execution_count": 11,
   "id": "d59e8baa",
   "metadata": {},
   "outputs": [
    {
     "data": {
      "text/plain": [
       "FlowID             2.614904e+04\n",
       "SourceIP           3.255239e+02\n",
       "SourcePort         1.843583e+04\n",
       "DestinationIP      9.059336e+02\n",
       "DestinationPort    1.515598e+04\n",
       "                       ...     \n",
       "ActiveMin          7.506802e+05\n",
       "IdleMean           1.542957e+07\n",
       "IdleStd            3.246955e+06\n",
       "IdleMax            1.627581e+07\n",
       "IdleMin            1.504980e+07\n",
       "Length: 84, dtype: float32"
      ]
     },
     "execution_count": 11,
     "metadata": {},
     "output_type": "execute_result"
    }
   ],
   "source": [
    "data_numerical.std(axis = 0)"
   ]
  },
  {
   "cell_type": "code",
   "execution_count": 12,
   "id": "e2a8bff1",
   "metadata": {},
   "outputs": [],
   "source": [
    "data_numerical = (data_numerical - data_numerical.mean(axis = 0))/data_numerical.std(axis = 0)\n",
    "data_numerical = data_numerical.fillna(0.0)"
   ]
  },
  {
   "cell_type": "markdown",
   "id": "90f66171",
   "metadata": {},
   "source": [
    "### Соединение всех данных"
   ]
  },
  {
   "cell_type": "code",
   "execution_count": 13,
   "id": "75fc4fe8",
   "metadata": {},
   "outputs": [
    {
     "data": {
      "text/plain": [
       "(177482, 85)"
      ]
     },
     "execution_count": 13,
     "metadata": {},
     "output_type": "execute_result"
    }
   ],
   "source": [
    "data = pd.concat((data_numerical, data[binary_columns]), axis = 1)\n",
    "data.shape"
   ]
  },
  {
   "cell_type": "code",
   "execution_count": 14,
   "id": "7ad93c26",
   "metadata": {},
   "outputs": [
    {
     "data": {
      "text/html": [
       "<div>\n",
       "<style scoped>\n",
       "    .dataframe tbody tr th:only-of-type {\n",
       "        vertical-align: middle;\n",
       "    }\n",
       "\n",
       "    .dataframe tbody tr th {\n",
       "        vertical-align: top;\n",
       "    }\n",
       "\n",
       "    .dataframe thead th {\n",
       "        text-align: right;\n",
       "    }\n",
       "</style>\n",
       "<table border=\"1\" class=\"dataframe\">\n",
       "  <thead>\n",
       "    <tr style=\"text-align: right;\">\n",
       "      <th></th>\n",
       "      <th>FlowID</th>\n",
       "      <th>SourceIP</th>\n",
       "      <th>SourcePort</th>\n",
       "      <th>DestinationIP</th>\n",
       "      <th>DestinationPort</th>\n",
       "      <th>Protocol</th>\n",
       "      <th>Timestamp</th>\n",
       "      <th>FlowDuration</th>\n",
       "      <th>TotalFwdPackets</th>\n",
       "      <th>TotalBackwardPackets</th>\n",
       "      <th>...</th>\n",
       "      <th>min_seg_size_forward</th>\n",
       "      <th>ActiveMean</th>\n",
       "      <th>ActiveStd</th>\n",
       "      <th>ActiveMax</th>\n",
       "      <th>ActiveMin</th>\n",
       "      <th>IdleMean</th>\n",
       "      <th>IdleStd</th>\n",
       "      <th>IdleMax</th>\n",
       "      <th>IdleMin</th>\n",
       "      <th>Class</th>\n",
       "    </tr>\n",
       "  </thead>\n",
       "  <tbody>\n",
       "    <tr>\n",
       "      <th>73217</th>\n",
       "      <td>-0.254680</td>\n",
       "      <td>-0.301850</td>\n",
       "      <td>0.615199</td>\n",
       "      <td>-0.551040</td>\n",
       "      <td>-0.374989</td>\n",
       "      <td>-0.505653</td>\n",
       "      <td>1.285073</td>\n",
       "      <td>-0.038628</td>\n",
       "      <td>-0.092527</td>\n",
       "      <td>-0.055528</td>\n",
       "      <td>...</td>\n",
       "      <td>-1.172876</td>\n",
       "      <td>-0.182251</td>\n",
       "      <td>-0.082902</td>\n",
       "      <td>-0.183967</td>\n",
       "      <td>-0.168432</td>\n",
       "      <td>-0.294287</td>\n",
       "      <td>-0.123948</td>\n",
       "      <td>-0.300703</td>\n",
       "      <td>-0.281379</td>\n",
       "      <td>1</td>\n",
       "    </tr>\n",
       "    <tr>\n",
       "      <th>72089</th>\n",
       "      <td>0.846469</td>\n",
       "      <td>-0.301850</td>\n",
       "      <td>0.571479</td>\n",
       "      <td>0.048341</td>\n",
       "      <td>-0.351038</td>\n",
       "      <td>1.916987</td>\n",
       "      <td>1.531425</td>\n",
       "      <td>-0.494133</td>\n",
       "      <td>-0.025086</td>\n",
       "      <td>-0.027333</td>\n",
       "      <td>...</td>\n",
       "      <td>-1.172876</td>\n",
       "      <td>-0.182251</td>\n",
       "      <td>-0.082902</td>\n",
       "      <td>-0.183967</td>\n",
       "      <td>-0.168432</td>\n",
       "      <td>-0.294287</td>\n",
       "      <td>-0.123948</td>\n",
       "      <td>-0.300703</td>\n",
       "      <td>-0.281379</td>\n",
       "      <td>1</td>\n",
       "    </tr>\n",
       "    <tr>\n",
       "      <th>96676</th>\n",
       "      <td>-1.665593</td>\n",
       "      <td>-0.301850</td>\n",
       "      <td>-0.047966</td>\n",
       "      <td>-0.931863</td>\n",
       "      <td>-0.376771</td>\n",
       "      <td>1.916987</td>\n",
       "      <td>1.765842</td>\n",
       "      <td>-0.460738</td>\n",
       "      <td>-0.193688</td>\n",
       "      <td>-0.083723</td>\n",
       "      <td>...</td>\n",
       "      <td>0.631080</td>\n",
       "      <td>-0.182251</td>\n",
       "      <td>-0.082902</td>\n",
       "      <td>-0.183967</td>\n",
       "      <td>-0.168432</td>\n",
       "      <td>-0.294287</td>\n",
       "      <td>-0.123948</td>\n",
       "      <td>-0.300703</td>\n",
       "      <td>-0.281379</td>\n",
       "      <td>0</td>\n",
       "    </tr>\n",
       "    <tr>\n",
       "      <th>42891</th>\n",
       "      <td>-1.619663</td>\n",
       "      <td>-0.301850</td>\n",
       "      <td>0.147468</td>\n",
       "      <td>-0.931863</td>\n",
       "      <td>-0.376771</td>\n",
       "      <td>1.916987</td>\n",
       "      <td>0.755896</td>\n",
       "      <td>-0.492732</td>\n",
       "      <td>-0.193688</td>\n",
       "      <td>-0.083723</td>\n",
       "      <td>...</td>\n",
       "      <td>-1.172876</td>\n",
       "      <td>-0.182251</td>\n",
       "      <td>-0.082902</td>\n",
       "      <td>-0.183967</td>\n",
       "      <td>-0.168432</td>\n",
       "      <td>-0.294287</td>\n",
       "      <td>-0.123948</td>\n",
       "      <td>-0.300703</td>\n",
       "      <td>-0.281379</td>\n",
       "      <td>1</td>\n",
       "    </tr>\n",
       "    <tr>\n",
       "      <th>169326</th>\n",
       "      <td>-1.224047</td>\n",
       "      <td>-0.307994</td>\n",
       "      <td>0.310249</td>\n",
       "      <td>-0.696746</td>\n",
       "      <td>-0.351038</td>\n",
       "      <td>-0.505653</td>\n",
       "      <td>-0.346225</td>\n",
       "      <td>2.344973</td>\n",
       "      <td>0.177238</td>\n",
       "      <td>0.000862</td>\n",
       "      <td>...</td>\n",
       "      <td>0.631080</td>\n",
       "      <td>0.231390</td>\n",
       "      <td>-0.082902</td>\n",
       "      <td>0.182972</td>\n",
       "      <td>0.261303</td>\n",
       "      <td>3.614245</td>\n",
       "      <td>-0.123948</td>\n",
       "      <td>3.404611</td>\n",
       "      <td>3.725784</td>\n",
       "      <td>0</td>\n",
       "    </tr>\n",
       "  </tbody>\n",
       "</table>\n",
       "<p>5 rows × 85 columns</p>\n",
       "</div>"
      ],
      "text/plain": [
       "          FlowID  SourceIP  SourcePort  DestinationIP  DestinationPort  \\\n",
       "73217  -0.254680 -0.301850    0.615199      -0.551040        -0.374989   \n",
       "72089   0.846469 -0.301850    0.571479       0.048341        -0.351038   \n",
       "96676  -1.665593 -0.301850   -0.047966      -0.931863        -0.376771   \n",
       "42891  -1.619663 -0.301850    0.147468      -0.931863        -0.376771   \n",
       "169326 -1.224047 -0.307994    0.310249      -0.696746        -0.351038   \n",
       "\n",
       "        Protocol  Timestamp  FlowDuration  TotalFwdPackets  \\\n",
       "73217  -0.505653   1.285073     -0.038628        -0.092527   \n",
       "72089   1.916987   1.531425     -0.494133        -0.025086   \n",
       "96676   1.916987   1.765842     -0.460738        -0.193688   \n",
       "42891   1.916987   0.755896     -0.492732        -0.193688   \n",
       "169326 -0.505653  -0.346225      2.344973         0.177238   \n",
       "\n",
       "        TotalBackwardPackets  ...  min_seg_size_forward  ActiveMean  \\\n",
       "73217              -0.055528  ...             -1.172876   -0.182251   \n",
       "72089              -0.027333  ...             -1.172876   -0.182251   \n",
       "96676              -0.083723  ...              0.631080   -0.182251   \n",
       "42891              -0.083723  ...             -1.172876   -0.182251   \n",
       "169326              0.000862  ...              0.631080    0.231390   \n",
       "\n",
       "        ActiveStd  ActiveMax  ActiveMin  IdleMean   IdleStd   IdleMax  \\\n",
       "73217   -0.082902  -0.183967  -0.168432 -0.294287 -0.123948 -0.300703   \n",
       "72089   -0.082902  -0.183967  -0.168432 -0.294287 -0.123948 -0.300703   \n",
       "96676   -0.082902  -0.183967  -0.168432 -0.294287 -0.123948 -0.300703   \n",
       "42891   -0.082902  -0.183967  -0.168432 -0.294287 -0.123948 -0.300703   \n",
       "169326  -0.082902   0.182972   0.261303  3.614245 -0.123948  3.404611   \n",
       "\n",
       "         IdleMin  Class  \n",
       "73217  -0.281379      1  \n",
       "72089  -0.281379      1  \n",
       "96676  -0.281379      0  \n",
       "42891  -0.281379      1  \n",
       "169326  3.725784      0  \n",
       "\n",
       "[5 rows x 85 columns]"
      ]
     },
     "execution_count": 14,
     "metadata": {},
     "output_type": "execute_result"
    }
   ],
   "source": [
    "data.head()"
   ]
  },
  {
   "cell_type": "markdown",
   "id": "ebab26ed",
   "metadata": {},
   "source": [
    "## Разбиение данных для обучения и тестов"
   ]
  },
  {
   "cell_type": "code",
   "execution_count": 15,
   "id": "ce1c41ad",
   "metadata": {},
   "outputs": [],
   "source": [
    "X = data.drop('Class', axis = 1)\n",
    "y = data['Class']"
   ]
  },
  {
   "cell_type": "code",
   "execution_count": 16,
   "id": "ae23340e",
   "metadata": {},
   "outputs": [],
   "source": [
    "X = X.to_numpy()\n",
    "y = np.array(y, dtype='int')"
   ]
  },
  {
   "cell_type": "code",
   "execution_count": 17,
   "id": "96af2aad",
   "metadata": {},
   "outputs": [
    {
     "data": {
      "text/plain": [
       "(177482, 84)"
      ]
     },
     "execution_count": 17,
     "metadata": {},
     "output_type": "execute_result"
    }
   ],
   "source": [
    "X.shape"
   ]
  },
  {
   "cell_type": "code",
   "execution_count": 18,
   "id": "09fab3b3",
   "metadata": {},
   "outputs": [
    {
     "data": {
      "text/plain": [
       "(177482,)"
      ]
     },
     "execution_count": 18,
     "metadata": {},
     "output_type": "execute_result"
    }
   ],
   "source": [
    "y.shape"
   ]
  },
  {
   "cell_type": "code",
   "execution_count": 19,
   "id": "cadf774d",
   "metadata": {},
   "outputs": [
    {
     "name": "stdout",
     "output_type": "stream",
     "text": [
      "124237 53245\n"
     ]
    }
   ],
   "source": [
    "from sklearn.model_selection import train_test_split\n",
    "X_train, X_test, y_train, y_test = train_test_split(X, y, test_size = 0.3, random_state = 42)\n",
    "N_train, _ = X_train.shape \n",
    "N_test,  _ = X_test.shape \n",
    "print(N_train, N_test)"
   ]
  },
  {
   "cell_type": "markdown",
   "id": "e44992f2",
   "metadata": {},
   "source": [
    "## Обучение полносвязной нейронной сети"
   ]
  },
  {
   "cell_type": "markdown",
   "id": "cb1ab777",
   "metadata": {},
   "source": [
    "### 1 скрытый слой"
   ]
  },
  {
   "cell_type": "code",
   "execution_count": 20,
   "id": "31e164d4",
   "metadata": {},
   "outputs": [],
   "source": [
    "from sklearn.neural_network import MLPClassifier\n",
    "\n",
    "mlp_model = MLPClassifier(hidden_layer_sizes = (50,),\n",
    "                          solver = 'adam', \n",
    "                          activation = 'logistic',\n",
    "                          max_iter=2000,\n",
    "                          random_state = 42,\n",
    "                          verbose=1,\n",
    "                          tol=1e-3)"
   ]
  },
  {
   "cell_type": "code",
   "execution_count": 21,
   "id": "5da050ab",
   "metadata": {},
   "outputs": [
    {
     "name": "stdout",
     "output_type": "stream",
     "text": [
      "Iteration 1, loss = 0.48429096\n",
      "Iteration 2, loss = 0.33345420\n",
      "Iteration 3, loss = 0.30598465\n",
      "Iteration 4, loss = 0.27535583\n",
      "Iteration 5, loss = 0.24504370\n",
      "Iteration 6, loss = 0.21316947\n",
      "Iteration 7, loss = 0.17733395\n",
      "Iteration 8, loss = 0.14652052\n",
      "Iteration 9, loss = 0.12607378\n",
      "Iteration 10, loss = 0.11218956\n",
      "Iteration 11, loss = 0.10255051\n",
      "Iteration 12, loss = 0.09542222\n",
      "Iteration 13, loss = 0.08964652\n",
      "Iteration 14, loss = 0.08502287\n",
      "Iteration 15, loss = 0.08101808\n",
      "Iteration 16, loss = 0.07763819\n",
      "Iteration 17, loss = 0.07491567\n",
      "Iteration 18, loss = 0.07233324\n",
      "Iteration 19, loss = 0.07017399\n",
      "Iteration 20, loss = 0.06800948\n",
      "Iteration 21, loss = 0.06627325\n",
      "Iteration 22, loss = 0.06460845\n",
      "Iteration 23, loss = 0.06304498\n",
      "Iteration 24, loss = 0.06173193\n",
      "Iteration 25, loss = 0.06038783\n",
      "Iteration 26, loss = 0.05917511\n",
      "Iteration 27, loss = 0.05800054\n",
      "Iteration 28, loss = 0.05696041\n",
      "Iteration 29, loss = 0.05595788\n",
      "Iteration 30, loss = 0.05500309\n",
      "Iteration 31, loss = 0.05402833\n",
      "Iteration 32, loss = 0.05320242\n",
      "Iteration 33, loss = 0.05238853\n",
      "Iteration 34, loss = 0.05155448\n",
      "Iteration 35, loss = 0.05072475\n",
      "Iteration 36, loss = 0.05026164\n",
      "Iteration 37, loss = 0.04960777\n",
      "Iteration 38, loss = 0.04909449\n",
      "Iteration 39, loss = 0.04847566\n",
      "Iteration 40, loss = 0.04783900\n",
      "Training loss did not improve more than tol=0.001000 for 10 consecutive epochs. Stopping.\n",
      "Wall time: 15.9 s\n"
     ]
    },
    {
     "data": {
      "text/plain": [
       "MLPClassifier(activation='logistic', hidden_layer_sizes=(50,), max_iter=2000,\n",
       "              random_state=42, tol=0.001, verbose=1)"
      ]
     },
     "execution_count": 21,
     "metadata": {},
     "output_type": "execute_result"
    }
   ],
   "source": [
    "%%time\n",
    "mlp_model.fit(X_train, y_train)"
   ]
  },
  {
   "cell_type": "markdown",
   "id": "f459fec9",
   "metadata": {},
   "source": [
    "**Ошибки на тестовой выборке**"
   ]
  },
  {
   "cell_type": "code",
   "execution_count": 22,
   "id": "8d01390a",
   "metadata": {},
   "outputs": [
    {
     "data": {
      "text/plain": [
       "0.01200112686637243"
      ]
     },
     "execution_count": 22,
     "metadata": {},
     "output_type": "execute_result"
    }
   ],
   "source": [
    "y_test_predict = mlp_model.predict(X_test)\n",
    "err_test  = np.mean(y_test  != y_test_predict)\n",
    "err_test"
   ]
  },
  {
   "cell_type": "markdown",
   "id": "0e66ced1",
   "metadata": {},
   "source": [
    "**Ошибки на тренировочной выборке**"
   ]
  },
  {
   "cell_type": "code",
   "execution_count": 23,
   "id": "1ac78213",
   "metadata": {},
   "outputs": [
    {
     "data": {
      "text/plain": [
       "0.011292932057277622"
      ]
     },
     "execution_count": 23,
     "metadata": {},
     "output_type": "execute_result"
    }
   ],
   "source": [
    "y_train_predict = mlp_model.predict(X_train)\n",
    "err_train  = np.mean(y_train  != y_train_predict)\n",
    "err_train"
   ]
  },
  {
   "cell_type": "markdown",
   "id": "9db03618",
   "metadata": {},
   "source": [
    "### 2 скрытых слоя"
   ]
  },
  {
   "cell_type": "code",
   "execution_count": 24,
   "id": "b73b3536",
   "metadata": {},
   "outputs": [],
   "source": [
    "from sklearn.neural_network import MLPClassifier\n",
    "\n",
    "mlp_model = MLPClassifier(hidden_layer_sizes = (50, 12),\n",
    "                          solver = 'adam', \n",
    "                          activation = 'logistic',\n",
    "                          max_iter=2000,\n",
    "                          random_state = 42,\n",
    "                          verbose=1,\n",
    "                          tol=1e-3)"
   ]
  },
  {
   "cell_type": "code",
   "execution_count": 25,
   "id": "2f07c59f",
   "metadata": {},
   "outputs": [
    {
     "name": "stdout",
     "output_type": "stream",
     "text": [
      "Iteration 1, loss = 0.52147141\n",
      "Iteration 2, loss = 0.22816474\n",
      "Iteration 3, loss = 0.20711095\n",
      "Iteration 4, loss = 0.19977564\n",
      "Iteration 5, loss = 0.19459180\n",
      "Iteration 6, loss = 0.19075869\n",
      "Iteration 7, loss = 0.18770667\n",
      "Iteration 8, loss = 0.18510732\n",
      "Iteration 9, loss = 0.18304134\n",
      "Iteration 10, loss = 0.18135095\n",
      "Iteration 11, loss = 0.17976298\n",
      "Iteration 12, loss = 0.17830696\n",
      "Iteration 13, loss = 0.17050926\n",
      "Iteration 14, loss = 0.15150173\n",
      "Iteration 15, loss = 0.13098689\n",
      "Iteration 16, loss = 0.11352531\n",
      "Iteration 17, loss = 0.10056678\n",
      "Iteration 18, loss = 0.09047967\n",
      "Iteration 19, loss = 0.08262752\n",
      "Iteration 20, loss = 0.07618063\n",
      "Iteration 21, loss = 0.07081262\n",
      "Iteration 22, loss = 0.06673509\n",
      "Iteration 23, loss = 0.06230187\n",
      "Iteration 24, loss = 0.05635557\n",
      "Iteration 25, loss = 0.05257409\n",
      "Iteration 26, loss = 0.05056607\n",
      "Iteration 27, loss = 0.04862350\n",
      "Iteration 28, loss = 0.04782678\n",
      "Iteration 29, loss = 0.04712881\n",
      "Iteration 30, loss = 0.04588031\n",
      "Iteration 31, loss = 0.04541189\n",
      "Iteration 32, loss = 0.04470856\n",
      "Iteration 33, loss = 0.04430103\n",
      "Iteration 34, loss = 0.04425258\n",
      "Iteration 35, loss = 0.04360898\n",
      "Iteration 36, loss = 0.04294730\n",
      "Iteration 37, loss = 0.04273098\n",
      "Iteration 38, loss = 0.04286814\n",
      "Iteration 39, loss = 0.04196902\n",
      "Iteration 40, loss = 0.04177751\n",
      "Iteration 41, loss = 0.04192053\n",
      "Training loss did not improve more than tol=0.001000 for 10 consecutive epochs. Stopping.\n",
      "Wall time: 17 s\n"
     ]
    },
    {
     "data": {
      "text/plain": [
       "MLPClassifier(activation='logistic', hidden_layer_sizes=(50, 12), max_iter=2000,\n",
       "              random_state=42, tol=0.001, verbose=1)"
      ]
     },
     "execution_count": 25,
     "metadata": {},
     "output_type": "execute_result"
    }
   ],
   "source": [
    "%%time\n",
    "mlp_model.fit(X_train, y_train)"
   ]
  },
  {
   "cell_type": "markdown",
   "id": "249fca17",
   "metadata": {},
   "source": [
    "**Ошибки на тестовой выборке**"
   ]
  },
  {
   "cell_type": "code",
   "execution_count": 26,
   "id": "58353500",
   "metadata": {},
   "outputs": [
    {
     "data": {
      "text/plain": [
       "0.011625504742229318"
      ]
     },
     "execution_count": 26,
     "metadata": {},
     "output_type": "execute_result"
    }
   ],
   "source": [
    "y_test_predict = mlp_model.predict(X_test)\n",
    "err_test  = np.mean(y_test  != y_test_predict)\n",
    "err_test"
   ]
  },
  {
   "cell_type": "markdown",
   "id": "96fd2b0f",
   "metadata": {},
   "source": [
    "**Ошибки на тренировочной выборке**"
   ]
  },
  {
   "cell_type": "code",
   "execution_count": 27,
   "id": "09fa9b95",
   "metadata": {},
   "outputs": [
    {
     "data": {
      "text/plain": [
       "0.010544362790473048"
      ]
     },
     "execution_count": 27,
     "metadata": {},
     "output_type": "execute_result"
    }
   ],
   "source": [
    "y_train_predict = mlp_model.predict(X_train)\n",
    "err_train  = np.mean(y_train  != y_train_predict)\n",
    "err_train"
   ]
  },
  {
   "cell_type": "markdown",
   "id": "69ea7f59",
   "metadata": {},
   "source": [
    "Сильного прироста от второго слоя нет"
   ]
  },
  {
   "cell_type": "markdown",
   "id": "cd7b1e30",
   "metadata": {},
   "source": [
    "### Подбор параметра альфа (1 скрытый слой)"
   ]
  },
  {
   "cell_type": "code",
   "execution_count": 28,
   "id": "53ba3044",
   "metadata": {},
   "outputs": [
    {
     "name": "stderr",
     "output_type": "stream",
     "text": [
      "C:\\Users\\veter\\AppData\\Local\\Temp/ipykernel_2152/749961129.py:9: TqdmDeprecationWarning: This function will be removed in tqdm==5.0.0\n",
      "Please use `tqdm.notebook.tqdm` instead of `tqdm.tqdm_notebook`\n",
      "  for alpha in tqdm.tqdm_notebook(alpha_arr):\n"
     ]
    },
    {
     "data": {
      "application/vnd.jupyter.widget-view+json": {
       "model_id": "0b20bad2186d454a8471487afe8d9697",
       "version_major": 2,
       "version_minor": 0
      },
      "text/plain": [
       "  0%|          | 0/21 [00:00<?, ?it/s]"
      ]
     },
     "metadata": {},
     "output_type": "display_data"
    }
   ],
   "source": [
    "from sklearn.metrics import accuracy_score\n",
    "import tqdm\n",
    "alpha_arr = np.logspace(-5, 1, 21)\n",
    "test_err = []\n",
    "train_err = []\n",
    "train_acc = []\n",
    "test_acc = []\n",
    "\n",
    "for alpha in tqdm.tqdm_notebook(alpha_arr):\n",
    "    mlp_model = MLPClassifier(alpha=alpha,\n",
    "                              hidden_layer_sizes = (50,),\n",
    "                              solver = 'adam', \n",
    "                              activation = 'logistic',\n",
    "                              max_iter=2000,\n",
    "                              random_state = 42,\n",
    "                              #verbose=1,\n",
    "                              tol=1e-3)\n",
    "    mlp_model.fit(X_train, y_train)\n",
    "\n",
    "    y_train_pred = mlp_model.predict(X_train)\n",
    "    y_test_pred = mlp_model.predict(X_test)\n",
    "    \n",
    "    train_err.append(np.mean(y_train != y_train_pred))\n",
    "    test_err.append(np.mean(y_test != y_test_pred))\n",
    "    train_acc.append(accuracy_score(y_train, y_train_pred))\n",
    "    test_acc.append(accuracy_score(y_test, y_test_pred))"
   ]
  },
  {
   "cell_type": "code",
   "execution_count": 29,
   "id": "a731e388",
   "metadata": {},
   "outputs": [
    {
     "data": {
      "text/plain": [
       "<matplotlib.legend.Legend at 0x28fa08a2430>"
      ]
     },
     "execution_count": 29,
     "metadata": {},
     "output_type": "execute_result"
    },
    {
     "data": {
      "image/png": "[encoded data removed]",
      "text/plain": [
       "<Figure size 432x288 with 1 Axes>"
      ]
     },
     "metadata": {
      "needs_background": "light"
     },
     "output_type": "display_data"
    }
   ],
   "source": [
    "plt.semilogx(alpha_arr, train_err, 'b-o', label = 'train')\n",
    "plt.semilogx(alpha_arr, test_err, 'r-o', label = 'test')\n",
    "plt.xlim([np.min(alpha_arr), np.max(alpha_arr)])\n",
    "plt.title('Error vs. alpha')\n",
    "plt.xlabel('alpha')\n",
    "plt.ylabel('error')\n",
    "plt.legend()"
   ]
  },
  {
   "cell_type": "code",
   "execution_count": 30,
   "id": "4edb0616",
   "metadata": {},
   "outputs": [
    {
     "data": {
      "text/plain": [
       "<matplotlib.legend.Legend at 0x28fa0ecd3d0>"
      ]
     },
     "execution_count": 30,
     "metadata": {},
     "output_type": "execute_result"
    },
    {
     "data": {
      "image/png": "[encoded data removed]",
      "text/plain": [
       "<Figure size 432x288 with 1 Axes>"
      ]
     },
     "metadata": {
      "needs_background": "light"
     },
     "output_type": "display_data"
    }
   ],
   "source": [
    "plt.semilogx(alpha_arr, train_acc, 'r-o', label = 'train')\n",
    "plt.semilogx(alpha_arr, test_acc, 'b-o', label = 'test')\n",
    "plt.xlim([np.min(alpha_arr), np.max(alpha_arr)])\n",
    "plt.title('Accuracy vs. alpha')\n",
    "plt.xlabel('alpha')\n",
    "plt.ylabel('Accuracy')\n",
    "plt.legend()"
   ]
  },
  {
   "cell_type": "code",
   "execution_count": 31,
   "id": "709af478",
   "metadata": {},
   "outputs": [
    {
     "name": "stdout",
     "output_type": "stream",
     "text": [
      "0.011252686397772 0.01186965912292234\n"
     ]
    }
   ],
   "source": [
    "min_train_err = np.min(train_err)\n",
    "min_test_err = np.min(test_err)\n",
    "print(min_train_err, min_test_err)"
   ]
  },
  {
   "cell_type": "code",
   "execution_count": 32,
   "id": "cde8eb3b",
   "metadata": {},
   "outputs": [
    {
     "name": "stdout",
     "output_type": "stream",
     "text": [
      "[1.99526231e-05]\n"
     ]
    }
   ],
   "source": [
    "alpha_opt = alpha_arr[test_err == min_test_err]\n",
    "print(alpha_opt)"
   ]
  },
  {
   "cell_type": "code",
   "execution_count": 33,
   "id": "cd48090c",
   "metadata": {},
   "outputs": [],
   "source": [
    "alpha_opt = alpha_opt[0]"
   ]
  },
  {
   "cell_type": "markdown",
   "id": "6091147e",
   "metadata": {},
   "source": [
    "### Подбор числа нейронов (1 скрытый слой)"
   ]
  },
  {
   "cell_type": "code",
   "execution_count": 34,
   "id": "8b50e718",
   "metadata": {},
   "outputs": [
    {
     "name": "stderr",
     "output_type": "stream",
     "text": [
      "C:\\Users\\veter\\AppData\\Local\\Temp/ipykernel_2152/1571838247.py:9: TqdmDeprecationWarning: This function will be removed in tqdm==5.0.0\n",
      "Please use `tqdm.notebook.tqdm` instead of `tqdm.tqdm_notebook`\n",
      "  for neurons_count in tqdm.tqdm_notebook(neurons_count_arr):\n"
     ]
    },
    {
     "data": {
      "application/vnd.jupyter.widget-view+json": {
       "model_id": "b1b5b3141a34467596446c11b35d0bf5",
       "version_major": 2,
       "version_minor": 0
      },
      "text/plain": [
       "  0%|          | 0/99 [00:00<?, ?it/s]"
      ]
     },
     "metadata": {},
     "output_type": "display_data"
    }
   ],
   "source": [
    "from sklearn.metrics import accuracy_score\n",
    "import tqdm\n",
    "neurons_count_arr = np.array([i for i in range(2, 100+1)])\n",
    "test_err = []\n",
    "train_err = []\n",
    "train_acc = []\n",
    "test_acc = []\n",
    "\n",
    "for neurons_count in tqdm.tqdm_notebook(neurons_count_arr):\n",
    "    mlp_model = MLPClassifier(alpha=alpha_opt,\n",
    "                              hidden_layer_sizes = (neurons_count,),\n",
    "                              solver = 'adam', \n",
    "                              activation = 'logistic',\n",
    "                              max_iter=2000,\n",
    "                              random_state = 42,\n",
    "                              #verbose=1,\n",
    "                              tol=1e-3)\n",
    "    mlp_model.fit(X_train, y_train)\n",
    "\n",
    "    y_train_pred = mlp_model.predict(X_train)\n",
    "    y_test_pred = mlp_model.predict(X_test)\n",
    "    \n",
    "    train_err.append(np.mean(y_train != y_train_pred))\n",
    "    test_err.append(np.mean(y_test != y_test_pred))\n",
    "    train_acc.append(accuracy_score(y_train, y_train_pred))\n",
    "    test_acc.append(accuracy_score(y_test, y_test_pred))"
   ]
  },
  {
   "cell_type": "code",
   "execution_count": 35,
   "id": "1773aab9",
   "metadata": {},
   "outputs": [
    {
     "data": {
      "text/plain": [
       "<matplotlib.legend.Legend at 0x28fa00e9dc0>"
      ]
     },
     "execution_count": 35,
     "metadata": {},
     "output_type": "execute_result"
    },
    {
     "data": {
      "image/png": "[encoded data removed]",
      "text/plain": [
       "<Figure size 432x288 with 1 Axes>"
      ]
     },
     "metadata": {
      "needs_background": "light"
     },
     "output_type": "display_data"
    }
   ],
   "source": [
    "plt.semilogx(neurons_count_arr, train_err, 'b-o', label = 'train')\n",
    "plt.semilogx(neurons_count_arr, test_err, 'r-o', label = 'test')\n",
    "plt.xlim([np.min(neurons_count_arr), np.max(neurons_count_arr)])\n",
    "plt.title('Error vs. neurons count')\n",
    "plt.xlabel('neurons count')\n",
    "plt.ylabel('error')\n",
    "plt.legend()"
   ]
  },
  {
   "cell_type": "code",
   "execution_count": 36,
   "id": "b386bd34",
   "metadata": {},
   "outputs": [
    {
     "data": {
      "text/plain": [
       "<matplotlib.legend.Legend at 0x28fa0e0eaf0>"
      ]
     },
     "execution_count": 36,
     "metadata": {},
     "output_type": "execute_result"
    },
    {
     "data": {
      "image/png": "[encoded data removed]",
      "text/plain": [
       "<Figure size 432x288 with 1 Axes>"
      ]
     },
     "metadata": {
      "needs_background": "light"
     },
     "output_type": "display_data"
    }
   ],
   "source": [
    "plt.semilogx(neurons_count_arr, train_acc, 'r-o', label = 'train')\n",
    "plt.semilogx(neurons_count_arr, test_acc, 'b-o', label = 'test')\n",
    "plt.xlim([np.min(neurons_count_arr), np.max(neurons_count_arr)])\n",
    "plt.title('Accuracy vs. neurons count')\n",
    "plt.xlabel('neurons count')\n",
    "plt.ylabel('Accuracy')\n",
    "plt.legend()"
   ]
  },
  {
   "cell_type": "code",
   "execution_count": 37,
   "id": "1f5942e7",
   "metadata": {},
   "outputs": [
    {
     "data": {
      "text/plain": [
       "[0.9525213635083106,\n",
       " 0.9529908911634896,\n",
       " 0.9528406423138323,\n",
       " 0.9525777068269321,\n",
       " 0.9856887970701474,\n",
       " 0.9523711146586534,\n",
       " 0.9864400413184337,\n",
       " 0.9847121795473753,\n",
       " 0.986233449150155,\n",
       " 0.9866654145929196,\n",
       " 0.9855009860080759]"
      ]
     },
     "execution_count": 37,
     "metadata": {},
     "output_type": "execute_result"
    }
   ],
   "source": [
    "# возьмем первый пик по Accuracy, т.к. разница > 10 не такая большая, а время обучение существенно меньше\n",
    "test_acc[:11]"
   ]
  },
  {
   "cell_type": "code",
   "execution_count": 38,
   "id": "8dfecd5f",
   "metadata": {},
   "outputs": [
    {
     "data": {
      "text/plain": [
       "6"
      ]
     },
     "execution_count": 38,
     "metadata": {},
     "output_type": "execute_result"
    }
   ],
   "source": [
    "id_max = 4\n",
    "neurons_count_opt = neurons_count_arr[id_max]\n",
    "neurons_count_opt"
   ]
  },
  {
   "cell_type": "markdown",
   "id": "085460e9",
   "metadata": {},
   "source": [
    "### Финальное обучение с оптимальными параметрами (по точности и времени)"
   ]
  },
  {
   "cell_type": "code",
   "execution_count": 39,
   "id": "3d27bc62",
   "metadata": {},
   "outputs": [],
   "source": [
    "from sklearn.neural_network import MLPClassifier\n",
    "\n",
    "mlp_model = MLPClassifier(hidden_layer_sizes = (neurons_count_opt,),\n",
    "                          alpha=alpha_opt,\n",
    "                          solver = 'adam', \n",
    "                          activation = 'logistic',\n",
    "                          max_iter=2000,\n",
    "                          random_state = 42,\n",
    "                          #verbose=1,\n",
    "                          tol=1e-3)"
   ]
  },
  {
   "cell_type": "code",
   "execution_count": 40,
   "id": "acf41436",
   "metadata": {},
   "outputs": [
    {
     "name": "stdout",
     "output_type": "stream",
     "text": [
      "Wall time: 9.73 s\n"
     ]
    },
    {
     "data": {
      "text/plain": [
       "MLPClassifier(activation='logistic', alpha=1.9952623149688786e-05,\n",
       "              hidden_layer_sizes=(6,), max_iter=2000, random_state=42,\n",
       "              tol=0.001)"
      ]
     },
     "execution_count": 40,
     "metadata": {},
     "output_type": "execute_result"
    }
   ],
   "source": [
    "%%time\n",
    "mlp_model.fit(X_train, y_train)"
   ]
  },
  {
   "cell_type": "markdown",
   "id": "9691b771",
   "metadata": {},
   "source": [
    "**Ошибки на тестовой выборке**"
   ]
  },
  {
   "cell_type": "code",
   "execution_count": 41,
   "id": "84778db2",
   "metadata": {},
   "outputs": [
    {
     "data": {
      "text/plain": [
       "0.014311202929852569"
      ]
     },
     "execution_count": 41,
     "metadata": {},
     "output_type": "execute_result"
    }
   ],
   "source": [
    "y_test_predict = mlp_model.predict(X_test)\n",
    "err_test  = np.mean(y_test  != y_test_predict)\n",
    "err_test"
   ]
  },
  {
   "cell_type": "markdown",
   "id": "38e65c13",
   "metadata": {},
   "source": [
    "**Ошибки на тренировочной выборке**"
   ]
  },
  {
   "cell_type": "code",
   "execution_count": 42,
   "id": "d093a924",
   "metadata": {},
   "outputs": [
    {
     "data": {
      "text/plain": [
       "0.013635229440504841"
      ]
     },
     "execution_count": 42,
     "metadata": {},
     "output_type": "execute_result"
    }
   ],
   "source": [
    "y_train_predict = mlp_model.predict(X_train)\n",
    "err_train  = np.mean(y_train  != y_train_predict)\n",
    "err_train"
   ]
  },
  {
   "cell_type": "code",
   "execution_count": 43,
   "id": "009dec07",
   "metadata": {},
   "outputs": [
    {
     "data": {
      "text/plain": [
       "(0.9856887970701474, 0.9863647705594951)"
      ]
     },
     "execution_count": 43,
     "metadata": {},
     "output_type": "execute_result"
    }
   ],
   "source": [
    "1-err_test, 1-err_train"
   ]
  },
  {
   "cell_type": "markdown",
   "id": "0e406e1a",
   "metadata": {},
   "source": [
    "**Матрица рассогласования:**"
   ]
  },
  {
   "cell_type": "code",
   "execution_count": 44,
   "id": "a2e68143",
   "metadata": {},
   "outputs": [
    {
     "name": "stdout",
     "output_type": "stream",
     "text": [
      "[[25890   435]\n",
      " [  184 26736]]\n"
     ]
    }
   ],
   "source": [
    "from sklearn.metrics import confusion_matrix\n",
    "print(confusion_matrix(y_test_pred, y_test))"
   ]
  },
  {
   "cell_type": "code",
   "execution_count": 45,
   "id": "54793692",
   "metadata": {},
   "outputs": [
    {
     "data": {
      "image/png": "[encoded data removed]",
      "text/plain": [
       "<Figure size 432x288 with 2 Axes>"
      ]
     },
     "metadata": {
      "needs_background": "light"
     },
     "output_type": "display_data"
    }
   ],
   "source": [
    "M = confusion_matrix(y_test_pred, y_test)\n",
    "M = np.sqrt(M)\n",
    "plt.imshow(M, interpolation = 'nearest')\n",
    "plt.set_cmap('binary')\n",
    "plt.xticks(range(2))\n",
    "plt.yticks(range(2))\n",
    "plt.xlabel(\"true label\")\n",
    "plt.ylabel(\"predicted label\")\n",
    "plt.colorbar()\n",
    "pass"
   ]
  },
  {
   "cell_type": "code",
   "execution_count": 46,
   "id": "ea8dcc20",
   "metadata": {},
   "outputs": [
    {
     "name": "stdout",
     "output_type": "stream",
     "text": [
      "              precision    recall  f1-score   support\n",
      "\n",
      "           0       0.98      0.99      0.99     60725\n",
      "           1       0.99      0.98      0.99     63512\n",
      "\n",
      "    accuracy                           0.99    124237\n",
      "   macro avg       0.99      0.99      0.99    124237\n",
      "weighted avg       0.99      0.99      0.99    124237\n",
      "\n"
     ]
    }
   ],
   "source": [
    "from sklearn.metrics import classification_report\n",
    "print(classification_report(y_train, y_train_predict))"
   ]
  },
  {
   "cell_type": "markdown",
   "id": "23753076",
   "metadata": {},
   "source": [
    "### Вывод:\n",
    "В ходе работы я обучил полносвязную нейронную сеть. Были найдены оптимальные параметры по точности и времени обучения: 1 слой с 6 нейронами, параметр альфа 2e-5. При таких параметрах ошибка составила 1.3%. Это хороший результат, который получился благодаря высокому качеству датасета и его обработке. Сильное переобучение/недообучение не наблюдается."
   ]
  },
  {
   "cell_type": "code",
   "execution_count": null,
   "id": "bdc52e18",
   "metadata": {},
   "outputs": [],
   "source": []
  }
 ],
 "metadata": {
  "kernelspec": {
   "display_name": "Python 3 (ipykernel)",
   "language": "python",
   "name": "python3"
  },
  "language_info": {
   "codemirror_mode": {
    "name": "ipython",
    "version": 3
   },
   "file_extension": ".py",
   "mimetype": "text/x-python",
   "name": "python",
   "nbconvert_exporter": "python",
   "pygments_lexer": "ipython3",
   "version": "3.9.6"
  }
 },
 "nbformat": 4,
 "nbformat_minor": 5
}
