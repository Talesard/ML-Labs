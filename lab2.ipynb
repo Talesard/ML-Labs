{
 "cells": [
  {
   "cell_type": "markdown",
   "id": "dc6db6e9",
   "metadata": {},
   "source": [
    "# Бинарная классификация сетевого трафика: безопасный и вирусный."
   ]
  },
  {
   "cell_type": "markdown",
   "id": "85ca3509",
   "metadata": {},
   "source": [
    "Требуется определить является ли сетевое взаимодействие опасным/безопасным по большому числу признаков трафика. "
   ]
  },
  {
   "cell_type": "markdown",
   "id": "e896d5cc",
   "metadata": {},
   "source": [
    "## Подключение модулей"
   ]
  },
  {
   "cell_type": "code",
   "execution_count": 1,
   "id": "be586e56",
   "metadata": {},
   "outputs": [],
   "source": [
    "import numpy as np\n",
    "import matplotlib.pyplot as plt\n",
    "%matplotlib inline              \n",
    "import pandas as pd\n",
    "import seaborn as sns\n",
    "import sklearn"
   ]
  },
  {
   "cell_type": "markdown",
   "id": "5d45c506",
   "metadata": {},
   "source": [
    "## Загрузка данных"
   ]
  },
  {
   "cell_type": "code",
   "execution_count": 2,
   "id": "8f47bc52",
   "metadata": {},
   "outputs": [
    {
     "data": {
      "text/plain": [
       "(177482, 85)"
      ]
     },
     "execution_count": 2,
     "metadata": {},
     "output_type": "execute_result"
    }
   ],
   "source": [
    "url = './data/dataset.csv'\n",
    "data = pd.read_csv(url, sep=',', header=0, engine='python')\n",
    "data.shape"
   ]
  },
  {
   "cell_type": "markdown",
   "id": "3a101d6a",
   "metadata": {},
   "source": [
    "## Подготовка данных"
   ]
  },
  {
   "cell_type": "markdown",
   "id": "0bdf701b",
   "metadata": {},
   "source": [
    "### Пропущенные "
   ]
  },
  {
   "cell_type": "code",
   "execution_count": 3,
   "id": "4c54cb65",
   "metadata": {},
   "outputs": [
    {
     "data": {
      "text/plain": [
       "0"
      ]
     },
     "execution_count": 3,
     "metadata": {},
     "output_type": "execute_result"
    }
   ],
   "source": [
    "data.isna().sum().sum() # их нет"
   ]
  },
  {
   "cell_type": "markdown",
   "id": "1db89107",
   "metadata": {},
   "source": [
    "### Обработка текстовых данных"
   ]
  },
  {
   "cell_type": "code",
   "execution_count": 4,
   "id": "1cb32970",
   "metadata": {},
   "outputs": [
    {
     "data": {
      "text/plain": [
       "['FlowID', 'SourceIP', 'DestinationIP', 'Timestamp', 'Class']"
      ]
     },
     "execution_count": 4,
     "metadata": {},
     "output_type": "execute_result"
    }
   ],
   "source": [
    "categorical_columns = [c for c in data.columns if data[c].dtype.name == 'object']\n",
    "categorical_columns"
   ]
  },
  {
   "cell_type": "code",
   "execution_count": 5,
   "id": "ba45018d",
   "metadata": {},
   "outputs": [],
   "source": [
    "from sklearn import preprocessing\n",
    "data_describe = data.describe(include = [object])\n",
    "number = preprocessing.LabelEncoder()\n",
    "data[\"FlowID\"] = number.fit_transform(data[\"FlowID\"])\n",
    "data[\"SourceIP\"] = number.fit_transform(data[\"SourceIP\"])\n",
    "data[\"DestinationIP\"] = number.fit_transform(data[\"DestinationIP\"])\n",
    "data[\"Timestamp\"] = number.fit_transform(data[\"Timestamp\"])"
   ]
  },
  {
   "cell_type": "code",
   "execution_count": 6,
   "id": "79825e2b",
   "metadata": {},
   "outputs": [],
   "source": [
    "binary_columns = [c for c in categorical_columns if data_describe[c]['unique'] == 2]"
   ]
  },
  {
   "cell_type": "code",
   "execution_count": 7,
   "id": "c1165b7e",
   "metadata": {},
   "outputs": [
    {
     "data": {
      "text/plain": [
       "array(['Trojan', 'Benign'], dtype=object)"
      ]
     },
     "execution_count": 7,
     "metadata": {},
     "output_type": "execute_result"
    }
   ],
   "source": [
    "data['Class'].unique()"
   ]
  },
  {
   "cell_type": "code",
   "execution_count": 8,
   "id": "f0a1c843",
   "metadata": {},
   "outputs": [
    {
     "data": {
      "text/plain": [
       "count     177482\n",
       "unique         2\n",
       "top            1\n",
       "freq       90683\n",
       "Name: Class, dtype: int64"
      ]
     },
     "execution_count": 8,
     "metadata": {},
     "output_type": "execute_result"
    }
   ],
   "source": [
    "data.at[data['Class'] == 'Trojan', 'Class'] = 1\n",
    "data.at[data['Class'] == 'Benign', 'Class'] = 0\n",
    "data['Class'].describe()"
   ]
  },
  {
   "cell_type": "markdown",
   "id": "1e701942",
   "metadata": {},
   "source": [
    "### Нормализация числовых данных"
   ]
  },
  {
   "cell_type": "code",
   "execution_count": 9,
   "id": "ee124bb1",
   "metadata": {},
   "outputs": [
    {
     "data": {
      "text/plain": [
       "84"
      ]
     },
     "execution_count": 9,
     "metadata": {},
     "output_type": "execute_result"
    }
   ],
   "source": [
    "numerical_columns = [c for c in data.columns if data[c].dtype.name != 'object']\n",
    "len(numerical_columns)"
   ]
  },
  {
   "cell_type": "code",
   "execution_count": 10,
   "id": "53a6bb82",
   "metadata": {},
   "outputs": [],
   "source": [
    "data_numerical = data[numerical_columns].astype('float32')"
   ]
  },
  {
   "cell_type": "code",
   "execution_count": 11,
   "id": "d59e8baa",
   "metadata": {},
   "outputs": [
    {
     "data": {
      "text/plain": [
       "FlowID             2.614904e+04\n",
       "SourceIP           3.255239e+02\n",
       "SourcePort         1.843583e+04\n",
       "DestinationIP      9.059336e+02\n",
       "DestinationPort    1.515598e+04\n",
       "                       ...     \n",
       "ActiveMin          7.506802e+05\n",
       "IdleMean           1.542957e+07\n",
       "IdleStd            3.246955e+06\n",
       "IdleMax            1.627581e+07\n",
       "IdleMin            1.504980e+07\n",
       "Length: 84, dtype: float32"
      ]
     },
     "execution_count": 11,
     "metadata": {},
     "output_type": "execute_result"
    }
   ],
   "source": [
    "data_numerical.std(axis = 0)"
   ]
  },
  {
   "cell_type": "code",
   "execution_count": 12,
   "id": "e2a8bff1",
   "metadata": {},
   "outputs": [],
   "source": [
    "data_numerical = (data_numerical - data_numerical.mean(axis = 0))/data_numerical.std(axis = 0)\n",
    "data_numerical = data_numerical.fillna(0.0)"
   ]
  },
  {
   "cell_type": "markdown",
   "id": "90f66171",
   "metadata": {},
   "source": [
    "### Соединение всех данных"
   ]
  },
  {
   "cell_type": "code",
   "execution_count": 13,
   "id": "75fc4fe8",
   "metadata": {},
   "outputs": [
    {
     "data": {
      "text/plain": [
       "(177482, 85)"
      ]
     },
     "execution_count": 13,
     "metadata": {},
     "output_type": "execute_result"
    }
   ],
   "source": [
    "data = pd.concat((data_numerical, data[binary_columns]), axis = 1)\n",
    "data.shape"
   ]
  },
  {
   "cell_type": "code",
   "execution_count": 14,
   "id": "7ad93c26",
   "metadata": {},
   "outputs": [
    {
     "data": {
      "text/html": [
       "<div>\n",
       "<style scoped>\n",
       "    .dataframe tbody tr th:only-of-type {\n",
       "        vertical-align: middle;\n",
       "    }\n",
       "\n",
       "    .dataframe tbody tr th {\n",
       "        vertical-align: top;\n",
       "    }\n",
       "\n",
       "    .dataframe thead th {\n",
       "        text-align: right;\n",
       "    }\n",
       "</style>\n",
       "<table border=\"1\" class=\"dataframe\">\n",
       "  <thead>\n",
       "    <tr style=\"text-align: right;\">\n",
       "      <th></th>\n",
       "      <th>FlowID</th>\n",
       "      <th>SourceIP</th>\n",
       "      <th>SourcePort</th>\n",
       "      <th>DestinationIP</th>\n",
       "      <th>DestinationPort</th>\n",
       "      <th>Protocol</th>\n",
       "      <th>Timestamp</th>\n",
       "      <th>FlowDuration</th>\n",
       "      <th>TotalFwdPackets</th>\n",
       "      <th>TotalBackwardPackets</th>\n",
       "      <th>...</th>\n",
       "      <th>min_seg_size_forward</th>\n",
       "      <th>ActiveMean</th>\n",
       "      <th>ActiveStd</th>\n",
       "      <th>ActiveMax</th>\n",
       "      <th>ActiveMin</th>\n",
       "      <th>IdleMean</th>\n",
       "      <th>IdleStd</th>\n",
       "      <th>IdleMax</th>\n",
       "      <th>IdleMin</th>\n",
       "      <th>Class</th>\n",
       "    </tr>\n",
       "  </thead>\n",
       "  <tbody>\n",
       "    <tr>\n",
       "      <th>73217</th>\n",
       "      <td>-0.254680</td>\n",
       "      <td>-0.301850</td>\n",
       "      <td>0.615199</td>\n",
       "      <td>-0.551040</td>\n",
       "      <td>-0.374989</td>\n",
       "      <td>-0.505653</td>\n",
       "      <td>1.285073</td>\n",
       "      <td>-0.038628</td>\n",
       "      <td>-0.092527</td>\n",
       "      <td>-0.055528</td>\n",
       "      <td>...</td>\n",
       "      <td>-1.172876</td>\n",
       "      <td>-0.182251</td>\n",
       "      <td>-0.082902</td>\n",
       "      <td>-0.183967</td>\n",
       "      <td>-0.168432</td>\n",
       "      <td>-0.294287</td>\n",
       "      <td>-0.123948</td>\n",
       "      <td>-0.300703</td>\n",
       "      <td>-0.281379</td>\n",
       "      <td>1</td>\n",
       "    </tr>\n",
       "    <tr>\n",
       "      <th>72089</th>\n",
       "      <td>0.846469</td>\n",
       "      <td>-0.301850</td>\n",
       "      <td>0.571479</td>\n",
       "      <td>0.048341</td>\n",
       "      <td>-0.351038</td>\n",
       "      <td>1.916987</td>\n",
       "      <td>1.531425</td>\n",
       "      <td>-0.494133</td>\n",
       "      <td>-0.025086</td>\n",
       "      <td>-0.027333</td>\n",
       "      <td>...</td>\n",
       "      <td>-1.172876</td>\n",
       "      <td>-0.182251</td>\n",
       "      <td>-0.082902</td>\n",
       "      <td>-0.183967</td>\n",
       "      <td>-0.168432</td>\n",
       "      <td>-0.294287</td>\n",
       "      <td>-0.123948</td>\n",
       "      <td>-0.300703</td>\n",
       "      <td>-0.281379</td>\n",
       "      <td>1</td>\n",
       "    </tr>\n",
       "    <tr>\n",
       "      <th>96676</th>\n",
       "      <td>-1.665593</td>\n",
       "      <td>-0.301850</td>\n",
       "      <td>-0.047966</td>\n",
       "      <td>-0.931863</td>\n",
       "      <td>-0.376771</td>\n",
       "      <td>1.916987</td>\n",
       "      <td>1.765842</td>\n",
       "      <td>-0.460738</td>\n",
       "      <td>-0.193688</td>\n",
       "      <td>-0.083723</td>\n",
       "      <td>...</td>\n",
       "      <td>0.631080</td>\n",
       "      <td>-0.182251</td>\n",
       "      <td>-0.082902</td>\n",
       "      <td>-0.183967</td>\n",
       "      <td>-0.168432</td>\n",
       "      <td>-0.294287</td>\n",
       "      <td>-0.123948</td>\n",
       "      <td>-0.300703</td>\n",
       "      <td>-0.281379</td>\n",
       "      <td>0</td>\n",
       "    </tr>\n",
       "    <tr>\n",
       "      <th>42891</th>\n",
       "      <td>-1.619663</td>\n",
       "      <td>-0.301850</td>\n",
       "      <td>0.147468</td>\n",
       "      <td>-0.931863</td>\n",
       "      <td>-0.376771</td>\n",
       "      <td>1.916987</td>\n",
       "      <td>0.755896</td>\n",
       "      <td>-0.492732</td>\n",
       "      <td>-0.193688</td>\n",
       "      <td>-0.083723</td>\n",
       "      <td>...</td>\n",
       "      <td>-1.172876</td>\n",
       "      <td>-0.182251</td>\n",
       "      <td>-0.082902</td>\n",
       "      <td>-0.183967</td>\n",
       "      <td>-0.168432</td>\n",
       "      <td>-0.294287</td>\n",
       "      <td>-0.123948</td>\n",
       "      <td>-0.300703</td>\n",
       "      <td>-0.281379</td>\n",
       "      <td>1</td>\n",
       "    </tr>\n",
       "    <tr>\n",
       "      <th>169326</th>\n",
       "      <td>-1.224047</td>\n",
       "      <td>-0.307994</td>\n",
       "      <td>0.310249</td>\n",
       "      <td>-0.696746</td>\n",
       "      <td>-0.351038</td>\n",
       "      <td>-0.505653</td>\n",
       "      <td>-0.346225</td>\n",
       "      <td>2.344973</td>\n",
       "      <td>0.177238</td>\n",
       "      <td>0.000862</td>\n",
       "      <td>...</td>\n",
       "      <td>0.631080</td>\n",
       "      <td>0.231390</td>\n",
       "      <td>-0.082902</td>\n",
       "      <td>0.182972</td>\n",
       "      <td>0.261303</td>\n",
       "      <td>3.614245</td>\n",
       "      <td>-0.123948</td>\n",
       "      <td>3.404611</td>\n",
       "      <td>3.725784</td>\n",
       "      <td>0</td>\n",
       "    </tr>\n",
       "  </tbody>\n",
       "</table>\n",
       "<p>5 rows × 85 columns</p>\n",
       "</div>"
      ],
      "text/plain": [
       "          FlowID  SourceIP  SourcePort  DestinationIP  DestinationPort  \\\n",
       "73217  -0.254680 -0.301850    0.615199      -0.551040        -0.374989   \n",
       "72089   0.846469 -0.301850    0.571479       0.048341        -0.351038   \n",
       "96676  -1.665593 -0.301850   -0.047966      -0.931863        -0.376771   \n",
       "42891  -1.619663 -0.301850    0.147468      -0.931863        -0.376771   \n",
       "169326 -1.224047 -0.307994    0.310249      -0.696746        -0.351038   \n",
       "\n",
       "        Protocol  Timestamp  FlowDuration  TotalFwdPackets  \\\n",
       "73217  -0.505653   1.285073     -0.038628        -0.092527   \n",
       "72089   1.916987   1.531425     -0.494133        -0.025086   \n",
       "96676   1.916987   1.765842     -0.460738        -0.193688   \n",
       "42891   1.916987   0.755896     -0.492732        -0.193688   \n",
       "169326 -0.505653  -0.346225      2.344973         0.177238   \n",
       "\n",
       "        TotalBackwardPackets  ...  min_seg_size_forward  ActiveMean  \\\n",
       "73217              -0.055528  ...             -1.172876   -0.182251   \n",
       "72089              -0.027333  ...             -1.172876   -0.182251   \n",
       "96676              -0.083723  ...              0.631080   -0.182251   \n",
       "42891              -0.083723  ...             -1.172876   -0.182251   \n",
       "169326              0.000862  ...              0.631080    0.231390   \n",
       "\n",
       "        ActiveStd  ActiveMax  ActiveMin  IdleMean   IdleStd   IdleMax  \\\n",
       "73217   -0.082902  -0.183967  -0.168432 -0.294287 -0.123948 -0.300703   \n",
       "72089   -0.082902  -0.183967  -0.168432 -0.294287 -0.123948 -0.300703   \n",
       "96676   -0.082902  -0.183967  -0.168432 -0.294287 -0.123948 -0.300703   \n",
       "42891   -0.082902  -0.183967  -0.168432 -0.294287 -0.123948 -0.300703   \n",
       "169326  -0.082902   0.182972   0.261303  3.614245 -0.123948  3.404611   \n",
       "\n",
       "         IdleMin  Class  \n",
       "73217  -0.281379      1  \n",
       "72089  -0.281379      1  \n",
       "96676  -0.281379      0  \n",
       "42891  -0.281379      1  \n",
       "169326  3.725784      0  \n",
       "\n",
       "[5 rows x 85 columns]"
      ]
     },
     "execution_count": 14,
     "metadata": {},
     "output_type": "execute_result"
    }
   ],
   "source": [
    "data.head()"
   ]
  },
  {
   "cell_type": "markdown",
   "id": "ebab26ed",
   "metadata": {},
   "source": [
    "## Разбиение данных для обучения и тестов"
   ]
  },
  {
   "cell_type": "code",
   "execution_count": 15,
   "id": "ce1c41ad",
   "metadata": {},
   "outputs": [],
   "source": [
    "X = data.drop('Class', axis = 1)\n",
    "y = data['Class']"
   ]
  },
  {
   "cell_type": "code",
   "execution_count": 16,
   "id": "ae23340e",
   "metadata": {},
   "outputs": [],
   "source": [
    "X = X.to_numpy()\n",
    "y = np.array(y, dtype='int')"
   ]
  },
  {
   "cell_type": "code",
   "execution_count": 17,
   "id": "96af2aad",
   "metadata": {},
   "outputs": [
    {
     "data": {
      "text/plain": [
       "(177482, 84)"
      ]
     },
     "execution_count": 17,
     "metadata": {},
     "output_type": "execute_result"
    }
   ],
   "source": [
    "X.shape"
   ]
  },
  {
   "cell_type": "code",
   "execution_count": 18,
   "id": "09fab3b3",
   "metadata": {},
   "outputs": [
    {
     "data": {
      "text/plain": [
       "(177482,)"
      ]
     },
     "execution_count": 18,
     "metadata": {},
     "output_type": "execute_result"
    }
   ],
   "source": [
    "y.shape"
   ]
  },
  {
   "cell_type": "code",
   "execution_count": 19,
   "id": "cadf774d",
   "metadata": {},
   "outputs": [
    {
     "name": "stdout",
     "output_type": "stream",
     "text": [
      "88741 88741\n"
     ]
    }
   ],
   "source": [
    "from sklearn.model_selection import train_test_split\n",
    "X_train, X_test, y_train, y_test = train_test_split(X, y, test_size = 0.5, random_state = 42)\n",
    "N_train, _ = X_train.shape \n",
    "N_test,  _ = X_test.shape \n",
    "print(N_train, N_test)"
   ]
  },
  {
   "cell_type": "markdown",
   "id": "e44992f2",
   "metadata": {},
   "source": [
    "## Обучение полносвязной нейронной сети"
   ]
  },
  {
   "cell_type": "markdown",
   "id": "cb1ab777",
   "metadata": {},
   "source": [
    "### 1 скрытый слой"
   ]
  },
  {
   "cell_type": "code",
   "execution_count": 20,
   "id": "31e164d4",
   "metadata": {},
   "outputs": [],
   "source": [
    "from sklearn.neural_network import MLPClassifier\n",
    "\n",
    "mlp_model = MLPClassifier(hidden_layer_sizes = (50,),\n",
    "                          solver = 'adam', \n",
    "                          activation = 'logistic',\n",
    "                          max_iter=2000,\n",
    "                          random_state = 42,\n",
    "                          verbose=1,\n",
    "                          tol=1e-3)"
   ]
  },
  {
   "cell_type": "code",
   "execution_count": 21,
   "id": "5da050ab",
   "metadata": {},
   "outputs": [
    {
     "name": "stdout",
     "output_type": "stream",
     "text": [
      "Iteration 1, loss = 0.53665937\n",
      "Iteration 2, loss = 0.34765376\n",
      "Iteration 3, loss = 0.32475806\n",
      "Iteration 4, loss = 0.30406588\n",
      "Iteration 5, loss = 0.28196065\n",
      "Iteration 6, loss = 0.26033593\n",
      "Iteration 7, loss = 0.23888107\n",
      "Iteration 8, loss = 0.21589864\n",
      "Iteration 9, loss = 0.19013722\n",
      "Iteration 10, loss = 0.16461450\n",
      "Iteration 11, loss = 0.14430994\n",
      "Iteration 12, loss = 0.12896321\n",
      "Iteration 13, loss = 0.11762729\n",
      "Iteration 14, loss = 0.10905886\n",
      "Iteration 15, loss = 0.10227481\n",
      "Iteration 16, loss = 0.09672963\n",
      "Iteration 17, loss = 0.09202626\n",
      "Iteration 18, loss = 0.08817546\n",
      "Iteration 19, loss = 0.08487459\n",
      "Iteration 20, loss = 0.08191073\n",
      "Iteration 21, loss = 0.07922264\n",
      "Iteration 22, loss = 0.07701203\n",
      "Iteration 23, loss = 0.07472136\n",
      "Iteration 24, loss = 0.07264819\n",
      "Iteration 25, loss = 0.07106855\n",
      "Iteration 26, loss = 0.06933130\n",
      "Iteration 27, loss = 0.06776645\n",
      "Iteration 28, loss = 0.06647610\n",
      "Iteration 29, loss = 0.06508999\n",
      "Iteration 30, loss = 0.06390572\n",
      "Iteration 31, loss = 0.06281929\n",
      "Iteration 32, loss = 0.06178099\n",
      "Iteration 33, loss = 0.06062724\n",
      "Iteration 34, loss = 0.05948385\n",
      "Iteration 35, loss = 0.05874173\n",
      "Iteration 36, loss = 0.05771686\n",
      "Iteration 37, loss = 0.05679555\n",
      "Iteration 38, loss = 0.05613378\n",
      "Iteration 39, loss = 0.05512821\n",
      "Iteration 40, loss = 0.05432626\n",
      "Iteration 41, loss = 0.05353101\n",
      "Iteration 42, loss = 0.05273261\n",
      "Iteration 43, loss = 0.05215056\n",
      "Iteration 44, loss = 0.05128343\n",
      "Iteration 45, loss = 0.05067169\n",
      "Iteration 46, loss = 0.05001658\n",
      "Iteration 47, loss = 0.04948810\n",
      "Iteration 48, loss = 0.04868487\n",
      "Iteration 49, loss = 0.04820705\n",
      "Iteration 50, loss = 0.04762622\n",
      "Training loss did not improve more than tol=0.001000 for 10 consecutive epochs. Stopping.\n",
      "Wall time: 14.5 s\n"
     ]
    },
    {
     "data": {
      "text/plain": [
       "MLPClassifier(activation='logistic', hidden_layer_sizes=(50,), max_iter=2000,\n",
       "              random_state=42, tol=0.001, verbose=1)"
      ]
     },
     "execution_count": 21,
     "metadata": {},
     "output_type": "execute_result"
    }
   ],
   "source": [
    "%%time\n",
    "mlp_model.fit(X_train, y_train)"
   ]
  },
  {
   "cell_type": "markdown",
   "id": "f459fec9",
   "metadata": {},
   "source": [
    "**Ошибки на тестовой выборке**"
   ]
  },
  {
   "cell_type": "code",
   "execution_count": 22,
   "id": "8d01390a",
   "metadata": {},
   "outputs": [
    {
     "data": {
      "text/plain": [
       "0.01401832298486607"
      ]
     },
     "execution_count": 22,
     "metadata": {},
     "output_type": "execute_result"
    }
   ],
   "source": [
    "y_test_predict = mlp_model.predict(X_test)\n",
    "err_test  = np.mean(y_test  != y_test_predict)\n",
    "err_test"
   ]
  },
  {
   "cell_type": "markdown",
   "id": "0e66ced1",
   "metadata": {},
   "source": [
    "**Ошибки на тренировочной выборке**"
   ]
  },
  {
   "cell_type": "code",
   "execution_count": 23,
   "id": "1ac78213",
   "metadata": {},
   "outputs": [
    {
     "data": {
      "text/plain": [
       "0.011730767063702234"
      ]
     },
     "execution_count": 23,
     "metadata": {},
     "output_type": "execute_result"
    }
   ],
   "source": [
    "y_train_predict = mlp_model.predict(X_train)\n",
    "err_train  = np.mean(y_train  != y_train_predict)\n",
    "err_train"
   ]
  },
  {
   "cell_type": "markdown",
   "id": "9db03618",
   "metadata": {},
   "source": [
    "### 2 скрытых слоя"
   ]
  },
  {
   "cell_type": "code",
   "execution_count": 24,
   "id": "b73b3536",
   "metadata": {},
   "outputs": [],
   "source": [
    "from sklearn.neural_network import MLPClassifier\n",
    "\n",
    "mlp_model = MLPClassifier(hidden_layer_sizes = (50, 12),\n",
    "                          solver = 'adam', \n",
    "                          activation = 'logistic',\n",
    "                          max_iter=2000,\n",
    "                          random_state = 42,\n",
    "                          verbose=1,\n",
    "                          tol=1e-3)"
   ]
  },
  {
   "cell_type": "code",
   "execution_count": 25,
   "id": "2f07c59f",
   "metadata": {},
   "outputs": [
    {
     "name": "stdout",
     "output_type": "stream",
     "text": [
      "Iteration 1, loss = 0.60788437\n",
      "Iteration 2, loss = 0.26803039\n",
      "Iteration 3, loss = 0.21652467\n",
      "Iteration 4, loss = 0.20664578\n",
      "Iteration 5, loss = 0.20122035\n",
      "Iteration 6, loss = 0.19717699\n",
      "Iteration 7, loss = 0.19365643\n",
      "Iteration 8, loss = 0.19090295\n",
      "Iteration 9, loss = 0.18859593\n",
      "Iteration 10, loss = 0.18652124\n",
      "Iteration 11, loss = 0.18473191\n",
      "Iteration 12, loss = 0.18337481\n",
      "Iteration 13, loss = 0.18182003\n",
      "Iteration 14, loss = 0.18075498\n",
      "Iteration 15, loss = 0.17961836\n",
      "Iteration 16, loss = 0.17853265\n",
      "Iteration 17, loss = 0.17554647\n",
      "Iteration 18, loss = 0.16328090\n",
      "Iteration 19, loss = 0.14877744\n",
      "Iteration 20, loss = 0.13382857\n",
      "Iteration 21, loss = 0.12031965\n",
      "Iteration 22, loss = 0.10896604\n",
      "Iteration 23, loss = 0.10012631\n",
      "Iteration 24, loss = 0.09254884\n",
      "Iteration 25, loss = 0.08608414\n",
      "Iteration 26, loss = 0.08070256\n",
      "Iteration 27, loss = 0.07588817\n",
      "Iteration 28, loss = 0.07207295\n",
      "Iteration 29, loss = 0.06871701\n",
      "Iteration 30, loss = 0.06531734\n",
      "Iteration 31, loss = 0.06219880\n",
      "Iteration 32, loss = 0.05755843\n",
      "Iteration 33, loss = 0.05397283\n",
      "Iteration 34, loss = 0.05154021\n",
      "Iteration 35, loss = 0.04990925\n",
      "Iteration 36, loss = 0.04867707\n",
      "Iteration 37, loss = 0.04745842\n",
      "Iteration 38, loss = 0.04658421\n",
      "Iteration 39, loss = 0.04570512\n",
      "Iteration 40, loss = 0.04587338\n",
      "Iteration 41, loss = 0.04506136\n",
      "Iteration 42, loss = 0.04409903\n",
      "Iteration 43, loss = 0.04385181\n",
      "Iteration 44, loss = 0.04397118\n",
      "Iteration 45, loss = 0.04342492\n",
      "Iteration 46, loss = 0.04314839\n",
      "Iteration 47, loss = 0.04277866\n",
      "Iteration 48, loss = 0.04274029\n",
      "Training loss did not improve more than tol=0.001000 for 10 consecutive epochs. Stopping.\n",
      "Wall time: 14.3 s\n"
     ]
    },
    {
     "data": {
      "text/plain": [
       "MLPClassifier(activation='logistic', hidden_layer_sizes=(50, 12), max_iter=2000,\n",
       "              random_state=42, tol=0.001, verbose=1)"
      ]
     },
     "execution_count": 25,
     "metadata": {},
     "output_type": "execute_result"
    }
   ],
   "source": [
    "%%time\n",
    "mlp_model.fit(X_train, y_train)"
   ]
  },
  {
   "cell_type": "markdown",
   "id": "249fca17",
   "metadata": {},
   "source": [
    "**Ошибки на тестовой выборке**"
   ]
  },
  {
   "cell_type": "code",
   "execution_count": 26,
   "id": "58353500",
   "metadata": {},
   "outputs": [
    {
     "data": {
      "text/plain": [
       "0.011606810831520943"
      ]
     },
     "execution_count": 26,
     "metadata": {},
     "output_type": "execute_result"
    }
   ],
   "source": [
    "y_test_predict = mlp_model.predict(X_test)\n",
    "err_test  = np.mean(y_test  != y_test_predict)\n",
    "err_test"
   ]
  },
  {
   "cell_type": "markdown",
   "id": "96fd2b0f",
   "metadata": {},
   "source": [
    "**Ошибки на тренировочной выборке**"
   ]
  },
  {
   "cell_type": "code",
   "execution_count": 27,
   "id": "09fa9b95",
   "metadata": {},
   "outputs": [
    {
     "data": {
      "text/plain": [
       "0.009950304819643683"
      ]
     },
     "execution_count": 27,
     "metadata": {},
     "output_type": "execute_result"
    }
   ],
   "source": [
    "y_train_predict = mlp_model.predict(X_train)\n",
    "err_train  = np.mean(y_train  != y_train_predict)\n",
    "err_train"
   ]
  },
  {
   "cell_type": "markdown",
   "id": "69ea7f59",
   "metadata": {},
   "source": [
    "Сильного прироста от второго слоя нет"
   ]
  },
  {
   "cell_type": "markdown",
   "id": "cd7b1e30",
   "metadata": {},
   "source": [
    "### Подбор параметра альфа (1 скрытый слой)"
   ]
  },
  {
   "cell_type": "code",
   "execution_count": 28,
   "id": "53ba3044",
   "metadata": {},
   "outputs": [
    {
     "name": "stderr",
     "output_type": "stream",
     "text": [
      "C:\\Users\\veter\\AppData\\Local\\Temp/ipykernel_1980/749961129.py:9: TqdmDeprecationWarning: This function will be removed in tqdm==5.0.0\n",
      "Please use `tqdm.notebook.tqdm` instead of `tqdm.tqdm_notebook`\n",
      "  for alpha in tqdm.tqdm_notebook(alpha_arr):\n"
     ]
    },
    {
     "data": {
      "application/vnd.jupyter.widget-view+json": {
       "model_id": "4ee70ce928394465bd79a5d018aab056",
       "version_major": 2,
       "version_minor": 0
      },
      "text/plain": [
       "  0%|          | 0/21 [00:00<?, ?it/s]"
      ]
     },
     "metadata": {},
     "output_type": "display_data"
    }
   ],
   "source": [
    "from sklearn.metrics import accuracy_score\n",
    "import tqdm\n",
    "alpha_arr = np.logspace(-5, 1, 21)\n",
    "test_err = []\n",
    "train_err = []\n",
    "train_acc = []\n",
    "test_acc = []\n",
    "\n",
    "for alpha in tqdm.tqdm_notebook(alpha_arr):\n",
    "    mlp_model = MLPClassifier(alpha=alpha,\n",
    "                              hidden_layer_sizes = (50,),\n",
    "                              solver = 'adam', \n",
    "                              activation = 'logistic',\n",
    "                              max_iter=2000,\n",
    "                              random_state = 42,\n",
    "                              #verbose=1,\n",
    "                              tol=1e-3)\n",
    "    mlp_model.fit(X_train, y_train)\n",
    "\n",
    "    y_train_pred = mlp_model.predict(X_train)\n",
    "    y_test_pred = mlp_model.predict(X_test)\n",
    "    \n",
    "    train_err.append(np.mean(y_train != y_train_pred))\n",
    "    test_err.append(np.mean(y_test != y_test_pred))\n",
    "    train_acc.append(accuracy_score(y_train, y_train_pred))\n",
    "    test_acc.append(accuracy_score(y_test, y_test_pred))"
   ]
  },
  {
   "cell_type": "code",
   "execution_count": 29,
   "id": "a731e388",
   "metadata": {},
   "outputs": [
    {
     "data": {
      "text/plain": [
       "<matplotlib.legend.Legend at 0x27c49323e20>"
      ]
     },
     "execution_count": 29,
     "metadata": {},
     "output_type": "execute_result"
    },
    {
     "data": {
      "image/png": "[encoded data removed]",
      "text/plain": [
       "<Figure size 432x288 with 1 Axes>"
      ]
     },
     "metadata": {
      "needs_background": "light"
     },
     "output_type": "display_data"
    }
   ],
   "source": [
    "plt.semilogx(alpha_arr, train_err, 'b-o', label = 'train')\n",
    "plt.semilogx(alpha_arr, test_err, 'r-o', label = 'test')\n",
    "plt.xlim([np.min(alpha_arr), np.max(alpha_arr)])\n",
    "plt.title('Error vs. alpha')\n",
    "plt.xlabel('alpha')\n",
    "plt.ylabel('error')\n",
    "plt.legend()"
   ]
  },
  {
   "cell_type": "code",
   "execution_count": 30,
   "id": "4edb0616",
   "metadata": {},
   "outputs": [
    {
     "data": {
      "text/plain": [
       "<matplotlib.legend.Legend at 0x27c4829f4c0>"
      ]
     },
     "execution_count": 30,
     "metadata": {},
     "output_type": "execute_result"
    },
    {
     "data": {
      "image/png": "[encoded data removed]",
      "text/plain": [
       "<Figure size 432x288 with 1 Axes>"
      ]
     },
     "metadata": {
      "needs_background": "light"
     },
     "output_type": "display_data"
    }
   ],
   "source": [
    "plt.semilogx(alpha_arr, train_acc, 'r-o', label = 'train')\n",
    "plt.semilogx(alpha_arr, test_acc, 'b-o', label = 'test')\n",
    "plt.xlim([np.min(alpha_arr), np.max(alpha_arr)])\n",
    "plt.title('Accuracy vs. alpha')\n",
    "plt.xlabel('alpha')\n",
    "plt.ylabel('Accuracy')\n",
    "plt.legend()"
   ]
  },
  {
   "cell_type": "code",
   "execution_count": 32,
   "id": "709af478",
   "metadata": {},
   "outputs": [
    {
     "name": "stdout",
     "output_type": "stream",
     "text": [
      "0.011651885825041413 0.013928172997825132\n"
     ]
    }
   ],
   "source": [
    "min_train_err = np.min(train_err)\n",
    "min_test_err = np.min(test_err)\n",
    "print(min_train_err, min_test_err)"
   ]
  },
  {
   "cell_type": "code",
   "execution_count": 33,
   "id": "cde8eb3b",
   "metadata": {},
   "outputs": [
    {
     "name": "stdout",
     "output_type": "stream",
     "text": [
      "[1.99526231e-05]\n"
     ]
    }
   ],
   "source": [
    "alpha_opt = alpha_arr[test_err == min_test_err]\n",
    "print(alpha_opt)"
   ]
  },
  {
   "cell_type": "code",
   "execution_count": 34,
   "id": "cd48090c",
   "metadata": {},
   "outputs": [],
   "source": [
    "alpha_opt = alpha_opt[0]"
   ]
  },
  {
   "cell_type": "markdown",
   "id": "6091147e",
   "metadata": {},
   "source": [
    "### Подбор числа нейронов (1 скрытый слой)"
   ]
  },
  {
   "cell_type": "code",
   "execution_count": 35,
   "id": "8b50e718",
   "metadata": {},
   "outputs": [
    {
     "name": "stderr",
     "output_type": "stream",
     "text": [
      "C:\\Users\\veter\\AppData\\Local\\Temp/ipykernel_1980/1571838247.py:9: TqdmDeprecationWarning: This function will be removed in tqdm==5.0.0\n",
      "Please use `tqdm.notebook.tqdm` instead of `tqdm.tqdm_notebook`\n",
      "  for neurons_count in tqdm.tqdm_notebook(neurons_count_arr):\n"
     ]
    },
    {
     "data": {
      "application/vnd.jupyter.widget-view+json": {
       "model_id": "5bc1d866114b4f349e51957d52154893",
       "version_major": 2,
       "version_minor": 0
      },
      "text/plain": [
       "  0%|          | 0/99 [00:00<?, ?it/s]"
      ]
     },
     "metadata": {},
     "output_type": "display_data"
    }
   ],
   "source": [
    "from sklearn.metrics import accuracy_score\n",
    "import tqdm\n",
    "neurons_count_arr = np.array([i for i in range(2, 100+1)])\n",
    "test_err = []\n",
    "train_err = []\n",
    "train_acc = []\n",
    "test_acc = []\n",
    "\n",
    "for neurons_count in tqdm.tqdm_notebook(neurons_count_arr):\n",
    "    mlp_model = MLPClassifier(alpha=alpha_opt,\n",
    "                              hidden_layer_sizes = (neurons_count,),\n",
    "                              solver = 'adam', \n",
    "                              activation = 'logistic',\n",
    "                              max_iter=2000,\n",
    "                              random_state = 42,\n",
    "                              #verbose=1,\n",
    "                              tol=1e-3)\n",
    "    mlp_model.fit(X_train, y_train)\n",
    "\n",
    "    y_train_pred = mlp_model.predict(X_train)\n",
    "    y_test_pred = mlp_model.predict(X_test)\n",
    "    \n",
    "    train_err.append(np.mean(y_train != y_train_pred))\n",
    "    test_err.append(np.mean(y_test != y_test_pred))\n",
    "    train_acc.append(accuracy_score(y_train, y_train_pred))\n",
    "    test_acc.append(accuracy_score(y_test, y_test_pred))"
   ]
  },
  {
   "cell_type": "code",
   "execution_count": 43,
   "id": "1773aab9",
   "metadata": {},
   "outputs": [
    {
     "data": {
      "text/plain": [
       "<matplotlib.legend.Legend at 0x27c4dfb0280>"
      ]
     },
     "execution_count": 43,
     "metadata": {},
     "output_type": "execute_result"
    },
    {
     "data": {
      "image/png": "[encoded data removed]",
      "text/plain": [
       "<Figure size 432x288 with 1 Axes>"
      ]
     },
     "metadata": {
      "needs_background": "light"
     },
     "output_type": "display_data"
    }
   ],
   "source": [
    "plt.semilogx(neurons_count_arr, train_err, 'b-o', label = 'train')\n",
    "plt.semilogx(neurons_count_arr, test_err, 'r-o', label = 'test')\n",
    "plt.xlim([np.min(neurons_count_arr), np.max(neurons_count_arr)])\n",
    "plt.title('Error vs. neurons count')\n",
    "plt.xlabel('neurons count')\n",
    "plt.ylabel('error')\n",
    "plt.legend()"
   ]
  },
  {
   "cell_type": "code",
   "execution_count": 52,
   "id": "b386bd34",
   "metadata": {},
   "outputs": [
    {
     "data": {
      "text/plain": [
       "<matplotlib.legend.Legend at 0x27c48141700>"
      ]
     },
     "execution_count": 52,
     "metadata": {},
     "output_type": "execute_result"
    },
    {
     "data": {
      "image/png": "[encoded data removed]",
      "text/plain": [
       "<Figure size 432x288 with 1 Axes>"
      ]
     },
     "metadata": {
      "needs_background": "light"
     },
     "output_type": "display_data"
    }
   ],
   "source": [
    "plt.semilogx(neurons_count_arr, train_acc, 'r-o', label = 'train')\n",
    "plt.semilogx(neurons_count_arr, test_acc, 'b-o', label = 'test')\n",
    "plt.xlim([np.min(neurons_count_arr), np.max(neurons_count_arr)])\n",
    "plt.title('Accuracy vs. neurons count')\n",
    "plt.xlabel('neurons count')\n",
    "plt.ylabel('Accuracy')\n",
    "plt.legend()"
   ]
  },
  {
   "cell_type": "code",
   "execution_count": 57,
   "id": "1f5942e7",
   "metadata": {},
   "outputs": [
    {
     "data": {
      "text/plain": [
       "[0.9528402880292086,\n",
       " 0.9529191692678695,\n",
       " 0.9529529755130097,\n",
       " 0.9532234254741326,\n",
       " 0.9847984584352216,\n",
       " 0.9526487193067465,\n",
       " 0.9844942022289584,\n",
       " 0.9847533834417012,\n",
       " 0.9855985395702099,\n",
       " 0.9857112270540112,\n",
       " 0.9842237522678356]"
      ]
     },
     "execution_count": 57,
     "metadata": {},
     "output_type": "execute_result"
    }
   ],
   "source": [
    "# возьмем первый пик по Accuracy, т.к. разница > 10 не такая большая, а время обучение существенно меньше\n",
    "test_acc[:11]"
   ]
  },
  {
   "cell_type": "code",
   "execution_count": 66,
   "id": "8dfecd5f",
   "metadata": {},
   "outputs": [
    {
     "data": {
      "text/plain": [
       "6"
      ]
     },
     "execution_count": 66,
     "metadata": {},
     "output_type": "execute_result"
    }
   ],
   "source": [
    "id_max = 4\n",
    "neurons_count_opt = neurons_count_arr[id_max]\n",
    "neurons_count_opt"
   ]
  },
  {
   "cell_type": "markdown",
   "id": "085460e9",
   "metadata": {},
   "source": [
    "### Финальное обучение с оптимальными параметрами (по точности и времени)"
   ]
  },
  {
   "cell_type": "code",
   "execution_count": 71,
   "id": "3d27bc62",
   "metadata": {},
   "outputs": [],
   "source": [
    "from sklearn.neural_network import MLPClassifier\n",
    "\n",
    "mlp_model = MLPClassifier(hidden_layer_sizes = (neurons_count_opt,),\n",
    "                          alpha=alpha_opt,\n",
    "                          solver = 'adam', \n",
    "                          activation = 'logistic',\n",
    "                          max_iter=2000,\n",
    "                          random_state = 42,\n",
    "                          #verbose=1,\n",
    "                          tol=1e-3)"
   ]
  },
  {
   "cell_type": "code",
   "execution_count": 72,
   "id": "acf41436",
   "metadata": {},
   "outputs": [
    {
     "name": "stdout",
     "output_type": "stream",
     "text": [
      "Wall time: 8.56 s\n"
     ]
    },
    {
     "data": {
      "text/plain": [
       "MLPClassifier(activation='logistic', alpha=1e-05, hidden_layer_sizes=(6,),\n",
       "              max_iter=2000, random_state=42, tol=0.001)"
      ]
     },
     "execution_count": 72,
     "metadata": {},
     "output_type": "execute_result"
    }
   ],
   "source": [
    "%%time\n",
    "mlp_model.fit(X_train, y_train)"
   ]
  },
  {
   "cell_type": "markdown",
   "id": "9691b771",
   "metadata": {},
   "source": [
    "**Ошибки на тестовой выборке**"
   ]
  },
  {
   "cell_type": "code",
   "execution_count": 73,
   "id": "84778db2",
   "metadata": {},
   "outputs": [
    {
     "data": {
      "text/plain": [
       "0.014638104145772528"
      ]
     },
     "execution_count": 73,
     "metadata": {},
     "output_type": "execute_result"
    }
   ],
   "source": [
    "y_test_predict = mlp_model.predict(X_test)\n",
    "err_test  = np.mean(y_test  != y_test_predict)\n",
    "err_test"
   ]
  },
  {
   "cell_type": "markdown",
   "id": "38e65c13",
   "metadata": {},
   "source": [
    "**Ошибки на тренировочной выборке**"
   ]
  },
  {
   "cell_type": "code",
   "execution_count": 74,
   "id": "d093a924",
   "metadata": {},
   "outputs": [
    {
     "data": {
      "text/plain": [
       "0.013635185539942078"
      ]
     },
     "execution_count": 74,
     "metadata": {},
     "output_type": "execute_result"
    }
   ],
   "source": [
    "y_train_predict = mlp_model.predict(X_train)\n",
    "err_train  = np.mean(y_train  != y_train_predict)\n",
    "err_train"
   ]
  },
  {
   "cell_type": "code",
   "execution_count": 76,
   "id": "009dec07",
   "metadata": {},
   "outputs": [
    {
     "data": {
      "text/plain": [
       "(0.9853618958542275, 0.986364814460058)"
      ]
     },
     "execution_count": 76,
     "metadata": {},
     "output_type": "execute_result"
    }
   ],
   "source": [
    "1-err_test, 1-err_train"
   ]
  },
  {
   "cell_type": "markdown",
   "id": "0e406e1a",
   "metadata": {},
   "source": [
    "**Матрица рассогласования:**"
   ]
  },
  {
   "cell_type": "code",
   "execution_count": 77,
   "id": "a2e68143",
   "metadata": {},
   "outputs": [
    {
     "name": "stdout",
     "output_type": "stream",
     "text": [
      "[[39378  2260]\n",
      " [ 4017 43086]]\n"
     ]
    }
   ],
   "source": [
    "from sklearn.metrics import confusion_matrix\n",
    "print(confusion_matrix(y_test_pred, y_test))"
   ]
  },
  {
   "cell_type": "code",
   "execution_count": 80,
   "id": "54793692",
   "metadata": {},
   "outputs": [
    {
     "data": {
      "image/png": "[encoded data removed]",
      "text/plain": [
       "<Figure size 432x288 with 2 Axes>"
      ]
     },
     "metadata": {
      "needs_background": "light"
     },
     "output_type": "display_data"
    }
   ],
   "source": [
    "M = confusion_matrix(y_test_pred, y_test)\n",
    "M = np.sqrt(M)\n",
    "plt.imshow(M, interpolation = 'nearest')\n",
    "plt.set_cmap('binary')\n",
    "plt.xticks(range(2))\n",
    "plt.yticks(range(2))\n",
    "plt.xlabel(\"true label\")\n",
    "plt.ylabel(\"predicted label\")\n",
    "plt.colorbar()\n",
    "pass"
   ]
  },
  {
   "cell_type": "code",
   "execution_count": 81,
   "id": "ea8dcc20",
   "metadata": {},
   "outputs": [
    {
     "name": "stdout",
     "output_type": "stream",
     "text": [
      "              precision    recall  f1-score   support\n",
      "\n",
      "           0       0.98      0.99      0.99     43404\n",
      "           1       0.99      0.98      0.99     45337\n",
      "\n",
      "    accuracy                           0.99     88741\n",
      "   macro avg       0.99      0.99      0.99     88741\n",
      "weighted avg       0.99      0.99      0.99     88741\n",
      "\n"
     ]
    }
   ],
   "source": [
    "from sklearn.metrics import classification_report\n",
    "print(classification_report(y_train, y_train_predict))"
   ]
  },
  {
   "cell_type": "code",
   "execution_count": null,
   "id": "a5fe3d0d",
   "metadata": {},
   "outputs": [],
   "source": []
  }
 ],
 "metadata": {
  "kernelspec": {
   "display_name": "Python 3 (ipykernel)",
   "language": "python",
   "name": "python3"
  },
  "language_info": {
   "codemirror_mode": {
    "name": "ipython",
    "version": 3
   },
   "file_extension": ".py",
   "mimetype": "text/x-python",
   "name": "python",
   "nbconvert_exporter": "python",
   "pygments_lexer": "ipython3",
   "version": "3.9.6"
  }
 },
 "nbformat": 4,
 "nbformat_minor": 5
}
